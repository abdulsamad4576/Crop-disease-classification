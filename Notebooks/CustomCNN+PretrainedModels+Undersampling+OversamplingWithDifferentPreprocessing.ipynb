{
 "cells": [
  {
   "cell_type": "markdown",
   "id": "e3a1e31f-bd85-45f7-904e-e8c1da93b0a6",
   "metadata": {},
   "source": [
    "# Importing Libraries\n"
   ]
  },
  {
   "cell_type": "code",
   "execution_count": 6,
   "id": "52225ff0-b69d-4c66-b804-e16a97e9c48f",
   "metadata": {},
   "outputs": [],
   "source": [
    "from torchvision import models\n",
    "from torchvision import transforms, datasets, models\n",
    "from torchvision.datasets import ImageFolder\n",
    "from torch.utils.data import DataLoader, random_split\n",
    "from torch.cuda.amp import GradScaler, autocast\n",
    "import torch.nn as nn\n",
    "import torch.nn.functional as F\n",
    "import torch.optim as optim\n",
    "import torch\n",
    "from PIL import Image\n",
    "import matplotlib.pyplot as plt\n",
    "import pandas as pd\n",
    "import os\n",
    "import shutil\n",
    "from sklearn.model_selection import train_test_split\n",
    "from tensorflow.keras.preprocessing.image import ImageDataGenerator\n",
    "from PIL import Image\n",
    "from sklearn.preprocessing import LabelEncoder\n",
    "from tensorflow.keras.utils import to_categorical\n",
    "import gc \n",
    "from scipy.ndimage import rotate\n",
    "from sklearn.metrics import classification_report"
   ]
  },
  {
   "cell_type": "markdown",
   "id": "71322881-8668-40a5-84f3-0de9f845f45f",
   "metadata": {},
   "source": [
    "# Setting up GPU"
   ]
  },
  {
   "cell_type": "code",
   "execution_count": 2,
   "id": "bd5d1ebb-b7d2-4245-abf3-937fbddd483e",
   "metadata": {},
   "outputs": [
    {
     "name": "stdout",
     "output_type": "stream",
     "text": [
      "Using device: cuda:0\n"
     ]
    }
   ],
   "source": [
    "device = torch.device(\"cuda:0\" if torch.cuda.is_available() else \"cpu\")\n",
    "print(f'Using device: {device}')\n",
    "if torch.cuda.device_count() > 1:\n",
    "    print(f\"Number of GPUs: {torch.cuda.device_count()}\")\n",
    "    model = torch.nn.DataParallel(model)"
   ]
  },
  {
   "cell_type": "markdown",
   "id": "a1c27490-fa06-464f-8956-a86e94cab11b",
   "metadata": {},
   "source": [
    "# Cleaning Data\n",
    "\n",
    "- Dealing with inconsistent csv records with actual dataset present (there are more csv records than image count)"
   ]
  },
  {
   "cell_type": "code",
   "execution_count": 3,
   "id": "bb44cc99-057a-4942-bbb7-4e76f649ee6c",
   "metadata": {},
   "outputs": [
    {
     "name": "stdout",
     "output_type": "stream",
     "text": [
      "CSV has been updated with relevant rows.\n"
     ]
    }
   ],
   "source": [
    "image_dir = r'D:\\Datasets\\CropDiseaseClassificationOriginal\\Data\\train_images'\n",
    "csv_path = r'D:\\Datasets\\CropDiseaseClassificationOriginal\\Data\\train.csv'\n",
    "\n",
    "image_files = {file for file in os.listdir(image_dir) if file.endswith(('.png', '.jpg', '.jpeg'))}\n",
    "df = pd.read_csv(csv_path)\n",
    "filtered_df = df[df['image_id'].isin(image_files)]\n",
    "filtered_df.to_csv(csv_path, index=False)\n",
    "print(\"CSV has been updated with relevant rows.\")\n",
    "\n"
   ]
  },
  {
   "cell_type": "markdown",
   "id": "75f84c69-8b6e-4618-8fbb-39bb66da9776",
   "metadata": {},
   "source": [
    "# Distribution of dataset\n",
    "\n",
    "- Highly imbalanced"
   ]
  },
  {
   "cell_type": "code",
   "execution_count": 4,
   "id": "7baae773-a6f2-425c-aba1-1081d84aec8c",
   "metadata": {},
   "outputs": [
    {
     "data": {
      "image/png": "[encoded data removed]",
      "text/plain": [
       "<Figure size 640x480 with 1 Axes>"
      ]
     },
     "metadata": {},
     "output_type": "display_data"
    }
   ],
   "source": [
    "df = pd.read_csv(csv_path)\n",
    "class_distribution = df['label'].value_counts().sort_index()\n",
    "plt.bar(class_distribution.index, class_distribution.values, color='aqua')\n",
    "plt.xlabel('Labels')\n",
    "plt.ylabel('Frequency')\n",
    "plt.title('Distribution of Labels in Dataset')\n",
    "plt.xticks(class_distribution.index)\n",
    "plt.grid(axis='y', linestyle='--', alpha=0.7)\n",
    "plt.show()"
   ]
  },
  {
   "cell_type": "markdown",
   "id": "fcb23102-a2ff-4115-ab4a-6a2952562831",
   "metadata": {},
   "source": [
    "# Organizing dataset\n",
    "\n",
    "- Categorizing each class into folders.\n"
   ]
  },
  {
   "cell_type": "code",
   "execution_count": 9,
   "id": "86c81599-5ea1-4a0e-a092-801b378570bb",
   "metadata": {},
   "outputs": [
    {
     "name": "stdout",
     "output_type": "stream",
     "text": [
      "Images have been copied and organized according to their classes.\n"
     ]
    }
   ],
   "source": [
    "destination_dir = r'D:\\Datasets\\CropDiseaseClassificationOriginal\\organizedData'\n",
    "\n",
    "class_names = {\n",
    "    0: \"Cassava Bacterial Blight (CBB)\",\n",
    "    1: \"Cassava Brown Streak Disease (CBSD)\",\n",
    "    2: \"Cassava Green Mottle (CGM)\",\n",
    "    3: \"Cassava Mosaic Disease (CMD)\",\n",
    "    4: \"Healthy\"\n",
    "}\n",
    "\n",
    "for class_label, class_name in class_names.items():\n",
    "    class_path = os.path.join(destination_dir, class_name)\n",
    "    if not os.path.exists(class_path):\n",
    "        os.makedirs(class_path)\n",
    "\n",
    "for index, row in df.iterrows():\n",
    "    file_name = row['image_id']\n",
    "    class_label = row['label']\n",
    "    source_file = os.path.join(image_dir, file_name)\n",
    "    destination_path = os.path.join(destination_dir, class_names[class_label], file_name)\n",
    "\n",
    "    if os.path.isfile(source_file):  \n",
    "        shutil.copy(source_file, destination_path)\n",
    "\n",
    "print(\"Images have been copied and organized according to their classes.\")\n"
   ]
  },
  {
   "cell_type": "markdown",
   "id": "d55ac5aa-639b-487b-9bb2-f52446e21c98",
   "metadata": {},
   "source": [
    "# Splitting of Data\n",
    "\n",
    "- As images for some classes were already low, it was best to keep 80% for training"
   ]
  },
  {
   "cell_type": "code",
   "execution_count": 10,
   "id": "cc170113-beb1-4118-9776-2815934ffbaa",
   "metadata": {},
   "outputs": [],
   "source": [
    "def split_data(source_directory, destination_directory, train_size=0.8):\n",
    "    classes = os.listdir(source_directory)\n",
    "    train_directory = os.path.join(destination_directory, 'train')\n",
    "    test_directory = os.path.join(destination_directory, 'test')\n",
    "    \n",
    "    os.makedirs(train_directory, exist_ok=True)\n",
    "    os.makedirs(test_directory, exist_ok=True)\n",
    "    \n",
    "    for class_name in classes:\n",
    "        class_dir = os.path.join(source_directory, class_name)\n",
    "        train_class_dir = os.path.join(train_directory, class_name)\n",
    "        test_class_dir = os.path.join(test_directory, class_name)\n",
    "        \n",
    "        os.makedirs(train_class_dir, exist_ok=True)\n",
    "        os.makedirs(test_class_dir, exist_ok=True)\n",
    "        \n",
    "        all_files = [f for f in os.listdir(class_dir) if os.path.isfile(os.path.join(class_dir, f))]\n",
    "        \n",
    "        train_files, test_files = train_test_split(all_files, train_size=train_size, random_state=42)\n",
    "        \n",
    "        for file in train_files:\n",
    "            shutil.move(os.path.join(class_dir, file), os.path.join(train_class_dir, file))\n",
    "        for file in test_files:\n",
    "            shutil.move(os.path.join(class_dir, file), os.path.join(test_class_dir, file))\n",
    "\n",
    "source_dir = 'D:\\\\Datasets\\\\CropDiseaseClassificationOriginal\\\\organizedData'\n",
    "dest_dir = 'D:\\\\Datasets\\\\CropDiseaseClassificationOriginal\\\\split_crop_disease\\\\'\n",
    "\n",
    "split_data(source_dir, dest_dir)\n"
   ]
  },
  {
   "cell_type": "markdown",
   "id": "35e65449-a8c8-4fd3-966d-8b3d29a0a3d9",
   "metadata": {},
   "source": [
    "# Augmenting the images\n",
    "\n",
    "Requirement to run this code properly: Undersample class 4 to 3000 images and copy paste the organizedData to another directory where you want the data augmented\n"
   ]
  },
  {
   "cell_type": "code",
   "execution_count": 3,
   "id": "d362c2ac-cec9-4b1f-a845-0d875e5395f1",
   "metadata": {},
   "outputs": [
    {
     "name": "stdout",
     "output_type": "stream",
     "text": [
      "Processing Cassava Bacterial Blight (CBB), initial count: 700, target: 3000, needed: 2300\n",
      "Batch 0 saved, 100 images\n",
      "Batch 1 saved, 100 images\n",
      "Batch 2 saved, 100 images\n",
      "Batch 3 saved, 100 images\n",
      "Batch 4 saved, 100 images\n",
      "Batch 5 saved, 100 images\n",
      "Batch 6 saved, 100 images\n",
      "Batch 7 saved, 100 images\n",
      "Batch 8 saved, 100 images\n",
      "Batch 9 saved, 100 images\n",
      "Batch 10 saved, 100 images\n",
      "Batch 11 saved, 100 images\n",
      "Batch 12 saved, 100 images\n",
      "Batch 13 saved, 100 images\n",
      "Batch 14 saved, 100 images\n",
      "Batch 15 saved, 100 images\n",
      "Batch 16 saved, 100 images\n",
      "Batch 17 saved, 100 images\n",
      "Batch 18 saved, 100 images\n",
      "Batch 19 saved, 100 images\n",
      "Batch 20 saved, 100 images\n",
      "Batch 21 saved, 100 images\n",
      "Target reached with batch 22. Total count now 3000.\n",
      "Processing Cassava Brown Streak Disease (CBSD), initial count: 1400, target: 3000, needed: 1600\n",
      "Batch 0 saved, 100 images\n",
      "Batch 1 saved, 100 images\n",
      "Batch 2 saved, 100 images\n",
      "Batch 3 saved, 100 images\n",
      "Batch 4 saved, 100 images\n",
      "Batch 5 saved, 100 images\n",
      "Batch 6 saved, 100 images\n",
      "Batch 7 saved, 100 images\n",
      "Batch 8 saved, 100 images\n",
      "Batch 9 saved, 100 images\n",
      "Batch 10 saved, 100 images\n",
      "Batch 11 saved, 100 images\n",
      "Batch 12 saved, 100 images\n",
      "Batch 13 saved, 100 images\n",
      "Batch 14 saved, 100 images\n",
      "Target reached with batch 15. Total count now 3000.\n",
      "Processing Cassava Green Mottle (CGM), initial count: 1500, target: 3000, needed: 1500\n",
      "Batch 0 saved, 100 images\n",
      "Batch 1 saved, 100 images\n",
      "Batch 2 saved, 100 images\n",
      "Batch 3 saved, 100 images\n",
      "Batch 4 saved, 100 images\n",
      "Batch 5 saved, 100 images\n",
      "Batch 6 saved, 100 images\n",
      "Batch 7 saved, 100 images\n",
      "Batch 8 saved, 100 images\n",
      "Batch 9 saved, 100 images\n",
      "Batch 10 saved, 100 images\n",
      "Batch 11 saved, 100 images\n",
      "Batch 12 saved, 100 images\n",
      "Batch 13 saved, 100 images\n",
      "Target reached with batch 14. Total count now 3000.\n",
      "Processing Cassava Mosaic Disease (CMD), initial count: 3000, target: 3000, needed: 0\n",
      "Processing Healthy, initial count: 1700, target: 3000, needed: 1300\n",
      "Batch 0 saved, 100 images\n",
      "Batch 1 saved, 100 images\n",
      "Batch 2 saved, 100 images\n",
      "Batch 3 saved, 100 images\n",
      "Batch 4 saved, 100 images\n",
      "Batch 5 saved, 100 images\n",
      "Batch 6 saved, 100 images\n",
      "Batch 7 saved, 100 images\n",
      "Batch 8 saved, 100 images\n",
      "Batch 9 saved, 100 images\n",
      "Batch 10 saved, 100 images\n",
      "Batch 11 saved, 100 images\n",
      "Target reached with batch 12. Total count now 3000.\n"
     ]
    }
   ],
   "source": [
    "def random_rotation(image):\n",
    "    angle = np.random.choice([90, 180, 270])\n",
    "    return rotate(image, angle, axes=(0, 1), reshape=False, mode='reflect')\n",
    "\n",
    "    \n",
    "def load_images(folder_path, target_size=None):\n",
    "    \"\"\" Load all images from a folder and resize them if target_size is provided. \"\"\"\n",
    "    images = []\n",
    "    filenames = os.listdir(folder_path)\n",
    "    for filename in filenames:\n",
    "        img_path = os.path.join(folder_path, filename)\n",
    "        with Image.open(img_path) as img:\n",
    "            if target_size:\n",
    "                img = img.resize(target_size, Image.Resampling.LANCZOS)\n",
    "            images.append(np.array(img, dtype=np.float32))\n",
    "    return images, filenames\n",
    "\n",
    "def augment_images(data_gen, images, labels, batch_size, save_path, prefix, target_count):\n",
    "    \"\"\" Augment images and save them to a directory, stopping when the target count is reached. \"\"\"\n",
    "    generator = data_gen.flow(images, labels, batch_size=batch_size, save_to_dir=save_path, save_prefix=prefix, save_format='jpeg')\n",
    "    current_count = len(images)  \n",
    "    for i, (img_batch, label_batch) in enumerate(generator):\n",
    "        current_count += len(img_batch)  \n",
    "        if current_count >= target_count:  \n",
    "            print(f\"Target reached with batch {i}. Total count now {current_count}.\")\n",
    "            break\n",
    "        print(f\"Batch {i} saved, {len(img_batch)} images\")\n",
    "        gc.collect()  \n",
    "\n",
    "def generate_and_save_augmented_images(root_folder, save_folder, target_size=None, target_count=3000):\n",
    "    data_gen = ImageDataGenerator(\n",
    "        preprocessing_function=random_rotation,  \n",
    "        horizontal_flip=True,\n",
    "        vertical_flip=True,\n",
    "        zoom_range=0.4,\n",
    "        shear_range=20.0,\n",
    "        fill_mode='reflect'\n",
    "    )\n",
    "    label_encoder = LabelEncoder()\n",
    "\n",
    "    for folder_name in os.listdir(root_folder):\n",
    "        folder_path = os.path.join(root_folder, folder_name)\n",
    "        save_path = os.path.join(save_folder, folder_name)\n",
    "        if not os.path.exists(save_path):\n",
    "            os.makedirs(save_path) \n",
    "        \n",
    "        images, filenames = load_images(folder_path, target_size=target_size)\n",
    "        labels = [folder_name] * len(images)\n",
    "        images_array = np.array(images)\n",
    "        labels_array = label_encoder.fit_transform(labels)\n",
    "        labels_array = to_categorical(labels_array)\n",
    "\n",
    "        current_count = len(images)\n",
    "        needed = target_count - current_count\n",
    "        print(f\"Processing {folder_name}, initial count: {current_count}, target: {target_count}, needed: {needed}\")\n",
    "        \n",
    "        if needed > 0:\n",
    "            batch_size = min(100, needed)\n",
    "            augment_images(data_gen, images_array, labels_array, batch_size, save_path, 'aug', target_count)\n",
    "\n",
    "root_folder = 'D:\\\\Datasets\\\\CropDiseaseClassificationOriginal\\\\split_crop_disease\\\\train'\n",
    "save_folder = 'D:\\\\Datasets\\\\CropDiseaseClassificationOriginal\\\\AugmentedCropDiseasev2'\n",
    "\n",
    "generate_and_save_augmented_images(root_folder, save_folder, target_size=(224, 224), target_count=3000)\n"
   ]
  },
  {
   "cell_type": "markdown",
   "id": "d04f1d71-032c-4936-a0db-a12ee3adfc91",
   "metadata": {},
   "source": [
    "# Labelling with csv"
   ]
  },
  {
   "cell_type": "code",
   "execution_count": 7,
   "id": "1b84d06d-7c6e-4877-a19f-4133b1a63a3b",
   "metadata": {},
   "outputs": [],
   "source": [
    "import os\n",
    "import csv\n",
    "\n",
    "def create_csv(base_path,output_csv_file):\n",
    "    with open(output_csv_file, mode='w', newline='') as file:\n",
    "        writer = csv.writer(file)\n",
    "        writer.writerow([\"Image Name\", \"Label\"])  \n",
    "    \n",
    "        for folder in os.listdir(base_path):\n",
    "            folder_path = os.path.join(base_path, folder)\n",
    "            \n",
    "            if os.path.isdir(folder_path):\n",
    "                for filename in os.listdir(folder_path):\n",
    "                    if filename.lower().endswith(('.png', '.jpg', '.jpeg', '.bmp')):\n",
    "                        writer.writerow([filename, folder])\n",
    "                    else:\n",
    "                        print(filename,folder,\"CHECKING!\")\n",
    "\n",
    "train_path = \"D:\\\\Datasets\\\\CropDiseaseClassificationOriginal\\\\AugmentedCropDiseasev2\"\n",
    "train_csv = \"D:\\\\Datasets\\\\CropDiseaseClassificationOriginal\\\\AugmentedCropDiseasev2\\\\image_labels.csv\"\n",
    "test_path = \"D:\\\\Datasets\\\\CropDiseaseClassificationOriginal\\\\split_crop_disease\\\\test\"\n",
    "test_csv = \"D:\\\\Datasets\\\\CropDiseaseClassificationOriginal\\\\split_crop_disease\\\\test\\\\image_labels.csv\"\n",
    "\n",
    "create_csv(train_path,train_csv)\n",
    "create_csv(test_path,test_csv)\n"
   ]
  },
  {
   "cell_type": "markdown",
   "id": "0bd2a7b8-2f13-4ad9-9161-821666c4d2af",
   "metadata": {},
   "source": [
    "# Setting up model"
   ]
  },
  {
   "cell_type": "code",
   "execution_count": 5,
   "id": "c332502d-aac1-4d86-b504-877ba8db620a",
   "metadata": {},
   "outputs": [],
   "source": [
    "transform = transforms.Compose([\n",
    "    transforms.Resize((224, 224)),\n",
    "    transforms.ToTensor(),\n",
    "    transforms.Normalize([0.485, 0.456, 0.406], [0.229, 0.224, 0.225])  \n",
    "])"
   ]
  },
  {
   "cell_type": "code",
   "execution_count": 27,
   "id": "3c47df1d-1224-490d-be31-5ec7baa882ae",
   "metadata": {},
   "outputs": [],
   "source": [
    "class CustomConvNet(nn.Module):\n",
    "    def __init__(self):\n",
    "        super(CustomConvNet, self).__init__()\n",
    "        self.conv1 = nn.Conv2d(3, 6, 3, 1)\n",
    "        self.conv2 = nn.Conv2d(6, 16, 3, 1)\n",
    "        self.fc1 = nn.Linear(16 * 54 * 54, 120)  \n",
    "        self.fc2 = nn.Linear(120, 84)\n",
    "        self.fc3 = nn.Linear(84, 20)\n",
    "        self.fc4 = nn.Linear(20, 5)#last layer output classes\n",
    "\n",
    "    def forward(self, x):\n",
    "        x = F.relu(self.conv1(x))\n",
    "        x = F.max_pool2d(x, 2, 2)\n",
    "        x = F.relu(self.conv2(x))\n",
    "        x = F.max_pool2d(x, 2, 2)\n",
    "        x = x.view(-1, 16 * 54 * 54)\n",
    "        x = F.relu(self.fc1(x))\n",
    "        x = F.relu(self.fc2(x))\n",
    "        x = F.relu(self.fc3(x))\n",
    "        x = self.fc4(x)\n",
    "        return x"
   ]
  },
  {
   "cell_type": "code",
   "execution_count": 28,
   "id": "9cb9127c-9421-4737-a758-cb6f65c73da5",
   "metadata": {},
   "outputs": [],
   "source": [
    "model = CustomConvNet().to(device)\n",
    "criterion = nn.CrossEntropyLoss()\n",
    "optimizer = optim.SGD(model.parameters(), lr=0.0001, momentum=0.9)"
   ]
  },
  {
   "cell_type": "code",
   "execution_count": 6,
   "id": "221b1adb-9a83-409c-9eb5-8934738ba1cf",
   "metadata": {},
   "outputs": [],
   "source": [
    "dataset_path = 'D:\\\\Datasets\\\\CropDiseaseClassificationOriginal\\\\AugmentedCropDiseasev2' \n",
    "testing_path = 'D:\\\\Datasets\\\\CropDiseaseClassificationOriginal\\\\split_crop_disease\\\\test' \n",
    "dataset = ImageFolder(root=dataset_path, transform=transform)\n",
    "test_dataset = ImageFolder(root=testing_path, transform=transform)"
   ]
  },
  {
   "cell_type": "code",
   "execution_count": 7,
   "id": "009eeebb-dd47-4e3e-9628-449ae49a3e2b",
   "metadata": {},
   "outputs": [],
   "source": [
    "train_size = int(0.8 * len(dataset))\n",
    "val_size = int(0.2 * len(dataset))\n",
    "test_size = 1\n",
    "\n",
    "train_dataset, val_dataset = random_split(dataset, [train_size, val_size])"
   ]
  },
  {
   "cell_type": "code",
   "execution_count": 8,
   "id": "d8411eab-8135-406c-a582-f187cd14a2fd",
   "metadata": {},
   "outputs": [],
   "source": [
    "batch_size = 32\n",
    "num_workers = 4\n",
    "pin_memory = True\n",
    "\n",
    "train_loader = DataLoader(train_dataset, batch_size=batch_size, shuffle=True, num_workers=num_workers, pin_memory=pin_memory)\n",
    "val_loader = DataLoader(val_dataset, batch_size=batch_size, shuffle=False, num_workers=num_workers, pin_memory=pin_memory)\n",
    "test_loader = DataLoader(test_dataset, batch_size=batch_size, shuffle=False, num_workers=num_workers, pin_memory=pin_memory)"
   ]
  },
  {
   "cell_type": "code",
   "execution_count": 34,
   "id": "89bafd7d-3aff-4d84-a1a0-824a298ef1ff",
   "metadata": {},
   "outputs": [
    {
     "name": "stdout",
     "output_type": "stream",
     "text": [
      "Epoch 1: Train Loss: 1.5969\n",
      "Validation Loss: 1.5823, Accuracy: 26.23%\n",
      "Epoch 2: Train Loss: 1.5609\n",
      "Validation Loss: 1.5383, Accuracy: 29.47%\n",
      "Epoch 3: Train Loss: 1.5121\n",
      "Validation Loss: 1.4747, Accuracy: 32.20%\n",
      "Epoch 4: Train Loss: 1.4363\n",
      "Validation Loss: 1.4035, Accuracy: 37.30%\n",
      "Epoch 5: Train Loss: 1.3829\n",
      "Validation Loss: 1.3600, Accuracy: 40.00%\n",
      "Epoch 6: Train Loss: 1.3276\n",
      "Validation Loss: 1.3360, Accuracy: 41.43%\n",
      "Epoch 7: Train Loss: 1.2623\n",
      "Validation Loss: 1.3113, Accuracy: 43.30%\n",
      "Epoch 8: Train Loss: 1.1964\n",
      "Validation Loss: 1.2827, Accuracy: 45.20%\n",
      "Epoch 9: Train Loss: 1.1392\n",
      "Validation Loss: 1.2925, Accuracy: 45.67%\n",
      "Epoch 10: Train Loss: 1.0177\n",
      "Validation Loss: 1.3418, Accuracy: 45.57%\n",
      "Epoch 11: Train Loss: 0.8964\n",
      "Validation Loss: 1.4431, Accuracy: 43.30%\n",
      "Epoch 12: Train Loss: 0.7000\n",
      "Validation Loss: 1.6161, Accuracy: 43.33%\n",
      "Epoch 13: Train Loss: 0.5154\n",
      "Validation Loss: 2.0629, Accuracy: 40.43%\n",
      "Epoch 14: Train Loss: 0.3092\n",
      "Validation Loss: 2.3355, Accuracy: 39.63%\n",
      "Epoch 15: Train Loss: 0.1721\n",
      "Validation Loss: 2.7578, Accuracy: 39.87%\n",
      "Epoch 16: Train Loss: 0.1130\n",
      "Validation Loss: 3.1533, Accuracy: 39.83%\n",
      "Epoch 17: Train Loss: 0.0512\n",
      "Validation Loss: 3.8301, Accuracy: 39.63%\n",
      "Epoch 18: Train Loss: 0.0196\n",
      "Validation Loss: 4.1476, Accuracy: 41.80%\n",
      "Epoch 19: Train Loss: 0.0073\n",
      "Validation Loss: 4.2596, Accuracy: 40.80%\n",
      "Epoch 20: Train Loss: 0.0031\n",
      "Validation Loss: 4.6077, Accuracy: 41.60%\n"
     ]
    }
   ],
   "source": [
    "num_epochs = 20\n",
    "\n",
    "for epoch in range(num_epochs):\n",
    "    model.train()\n",
    "    total_loss = 0\n",
    "    for images, labels in train_loader:\n",
    "        images, labels = images.to(device), labels.to(device)\n",
    "        optimizer.zero_grad()\n",
    "        outputs = model(images)\n",
    "        loss = criterion(outputs, labels)\n",
    "        loss.backward()\n",
    "        optimizer.step()\n",
    "        total_loss += loss.item() * images.size(0)\n",
    "\n",
    "    print(f'Epoch {epoch+1}: Train Loss: {total_loss / len(train_loader.dataset):.4f}')\n",
    "\n",
    "    model.eval()\n",
    "    val_loss = 0\n",
    "    correct = 0\n",
    "    total = 0\n",
    "    with torch.no_grad():\n",
    "        for images, labels in val_loader:\n",
    "            images, labels = images.to(device), labels.to(device)\n",
    "            outputs = model(images)\n",
    "            loss = criterion(outputs, labels)\n",
    "            val_loss += loss.item() * images.size(0)\n",
    "            _, predicted = torch.max(outputs.data, 1)\n",
    "            total += labels.size(0)\n",
    "            correct += (predicted == labels).sum().item()\n",
    "\n",
    "    print(f'Validation Loss: {val_loss / len(val_loader.dataset):.4f}, Accuracy: {100 * correct / total:.2f}%')\n"
   ]
  },
  {
   "cell_type": "code",
   "execution_count": 35,
   "id": "6e0f5f0f-114f-4f98-a2d2-df8d79fa81ba",
   "metadata": {},
   "outputs": [
    {
     "name": "stdout",
     "output_type": "stream",
     "text": [
      "                                     precision    recall  f1-score   support\n",
      "\n",
      "     Cassava Bacterial Blight (CBB)       0.15      0.28      0.19       221\n",
      "Cassava Brown Streak Disease (CBSD)       0.13      0.33      0.19       431\n",
      "         Cassava Green Mottle (CGM)       0.08      0.29      0.13       493\n",
      "       Cassava Mosaic Disease (CMD)       0.93      0.59      0.72      8027\n",
      "                            Healthy       0.11      0.30      0.16       466\n",
      "\n",
      "                           accuracy                           0.54      9638\n",
      "                          macro avg       0.28      0.36      0.28      9638\n",
      "                       weighted avg       0.80      0.54      0.63      9638\n",
      "\n"
     ]
    }
   ],
   "source": [
    "from sklearn.metrics import classification_report\n",
    "\n",
    "def get_predictions(model, data_loader):\n",
    "    model.eval()\n",
    "    all_preds = []\n",
    "    all_labels = []\n",
    "    with torch.no_grad():\n",
    "        for images, labels in data_loader:\n",
    "            images = images.to(device)\n",
    "            labels = labels.to(device)\n",
    "            outputs = model(images)\n",
    "            _, preds = torch.max(outputs, 1)\n",
    "            all_preds.extend(preds.cpu().numpy())\n",
    "            all_labels.extend(labels.cpu().numpy())\n",
    "    return all_labels, all_preds\n",
    "\n",
    "labels, preds = get_predictions(model, test_loader)\n",
    "print(classification_report(labels, preds, target_names=['Cassava Bacterial Blight (CBB)', 'Cassava Brown Streak Disease (CBSD)','Cassava Green Mottle (CGM)','Cassava Mosaic Disease (CMD)','Healthy']))"
   ]
  },
  {
   "cell_type": "code",
   "execution_count": 37,
   "id": "ea7110ce-bdbf-4d4e-904d-1138afa3dcab",
   "metadata": {},
   "outputs": [
    {
     "name": "stderr",
     "output_type": "stream",
     "text": [
      "C:\\Users\\abdul\\miniconda3\\envs\\py310\\lib\\site-packages\\torchvision\\models\\_utils.py:223: UserWarning: Arguments other than a weight enum or `None` for 'weights' are deprecated since 0.13 and may be removed in the future. The current behavior is equivalent to passing `weights=ResNet50_Weights.IMAGENET1K_V1`. You can also use `weights=ResNet50_Weights.DEFAULT` to get the most up-to-date weights.\n",
      "  warnings.warn(msg)\n"
     ]
    },
    {
     "name": "stdout",
     "output_type": "stream",
     "text": [
      "Epoch 1: Train Loss: 0.9741\n",
      "Validation Loss: 0.7705, Accuracy: 71.10%\n",
      "Epoch 2: Train Loss: 0.5842\n",
      "Validation Loss: 0.7431, Accuracy: 72.70%\n",
      "Epoch 3: Train Loss: 0.3074\n",
      "Validation Loss: 0.8253, Accuracy: 72.77%\n",
      "Epoch 4: Train Loss: 0.1258\n",
      "Validation Loss: 0.9732, Accuracy: 72.60%\n",
      "Epoch 5: Train Loss: 0.0652\n",
      "Validation Loss: 0.9940, Accuracy: 74.30%\n",
      "Epoch 6: Train Loss: 0.0515\n",
      "Validation Loss: 1.0837, Accuracy: 73.23%\n",
      "Epoch 7: Train Loss: 0.0386\n",
      "Validation Loss: 1.0902, Accuracy: 74.13%\n",
      "Epoch 8: Train Loss: 0.0469\n",
      "Validation Loss: 1.1409, Accuracy: 73.73%\n",
      "Epoch 9: Train Loss: 0.0421\n",
      "Validation Loss: 1.1345, Accuracy: 74.03%\n",
      "Epoch 10: Train Loss: 0.0295\n",
      "Validation Loss: 1.2608, Accuracy: 72.83%\n",
      "Epoch 11: Train Loss: 0.0342\n",
      "Validation Loss: 1.1973, Accuracy: 74.17%\n",
      "Epoch 12: Train Loss: 0.0369\n",
      "Validation Loss: 1.2178, Accuracy: 73.17%\n",
      "Epoch 13: Train Loss: 0.0428\n",
      "Validation Loss: 1.1485, Accuracy: 74.23%\n",
      "Epoch 14: Train Loss: 0.0321\n",
      "Validation Loss: 1.1878, Accuracy: 74.13%\n",
      "Epoch 15: Train Loss: 0.0313\n",
      "Validation Loss: 1.3506, Accuracy: 73.73%\n",
      "Epoch 16: Train Loss: 0.0213\n",
      "Validation Loss: 1.2441, Accuracy: 75.17%\n",
      "Epoch 17: Train Loss: 0.0201\n",
      "Validation Loss: 1.2522, Accuracy: 75.40%\n",
      "Epoch 18: Train Loss: 0.0253\n",
      "Validation Loss: 1.2502, Accuracy: 74.83%\n",
      "Epoch 19: Train Loss: 0.0175\n",
      "Validation Loss: 1.2437, Accuracy: 75.40%\n",
      "Epoch 20: Train Loss: 0.0169\n",
      "Validation Loss: 1.2477, Accuracy: 75.90%\n"
     ]
    }
   ],
   "source": [
    "model = models.resnet50(pretrained=True)\n",
    "num_ftrs = model.fc.in_features\n",
    "model.fc = nn.Linear(num_ftrs, 5)\n",
    "model = model.to(device)\n",
    "criterion = nn.CrossEntropyLoss()\n",
    "optimizer = optim.SGD(model.parameters(), lr=0.001, momentum=0.9)\n",
    "\n",
    "for epoch in range(num_epochs):\n",
    "    model.train()\n",
    "    total_loss = 0\n",
    "    for images, labels in train_loader:\n",
    "        images, labels = images.to(device), labels.to(device)\n",
    "        optimizer.zero_grad()\n",
    "        outputs = model(images)\n",
    "        loss = criterion(outputs, labels)\n",
    "        loss.backward()\n",
    "        optimizer.step()\n",
    "        total_loss += loss.item() * images.size(0)\n",
    "\n",
    "    print(f'Epoch {epoch+1}: Train Loss: {total_loss / len(train_loader.dataset):.4f}')\n",
    "\n",
    "    model.eval()\n",
    "    val_loss = 0\n",
    "    correct = 0\n",
    "    total = 0\n",
    "    with torch.no_grad():\n",
    "        for images, labels in val_loader:\n",
    "            images, labels = images.to(device), labels.to(device)\n",
    "            outputs = model(images)\n",
    "            loss = criterion(outputs, labels)\n",
    "            val_loss += loss.item() * images.size(0)\n",
    "            _, predicted = torch.max(outputs.data, 1)\n",
    "            total += labels.size(0)\n",
    "            correct += (predicted == labels).sum().item()\n",
    "\n",
    "    print(f'Validation Loss: {val_loss / len(val_loader.dataset):.4f}, Accuracy: {100 * correct / total:.2f}%')\n"
   ]
  },
  {
   "cell_type": "code",
   "execution_count": 38,
   "id": "6cc0bbd8-5d16-44cf-ad99-aaa93c9cfcff",
   "metadata": {},
   "outputs": [
    {
     "name": "stdout",
     "output_type": "stream",
     "text": [
      "                                     precision    recall  f1-score   support\n",
      "\n",
      "     Cassava Bacterial Blight (CBB)       0.46      0.58      0.52       221\n",
      "Cassava Brown Streak Disease (CBSD)       0.48      0.72      0.58       431\n",
      "         Cassava Green Mottle (CGM)       0.49      0.66      0.56       493\n",
      "       Cassava Mosaic Disease (CMD)       0.98      0.89      0.93      8027\n",
      "                            Healthy       0.39      0.69      0.50       466\n",
      "\n",
      "                           accuracy                           0.85      9638\n",
      "                          macro avg       0.56      0.71      0.62      9638\n",
      "                       weighted avg       0.89      0.85      0.87      9638\n",
      "\n"
     ]
    }
   ],
   "source": [
    "labels, preds = get_predictions(model, test_loader)\n",
    "print(classification_report(labels, preds, target_names=['Cassava Bacterial Blight (CBB)', 'Cassava Brown Streak Disease (CBSD)','Cassava Green Mottle (CGM)','Cassava Mosaic Disease (CMD)','Healthy']))"
   ]
  },
  {
   "cell_type": "code",
   "execution_count": 6,
   "id": "0721540e-19d9-4a89-aeda-10c379e5aa3a",
   "metadata": {},
   "outputs": [
    {
     "name": "stdout",
     "output_type": "stream",
     "text": [
      "Epoch 1: Train Loss: 1.5078\n",
      "Epoch 2: Train Loss: 1.4088\n",
      "Epoch 3: Train Loss: 1.3658\n",
      "Epoch 4: Train Loss: 1.3086\n",
      "Epoch 5: Train Loss: 1.2691\n",
      "Epoch 6: Train Loss: 1.2184\n",
      "Epoch 7: Train Loss: 1.1655\n",
      "Epoch 8: Train Loss: 1.1092\n",
      "Epoch 9: Train Loss: 1.0647\n",
      "Epoch 10: Train Loss: 1.0151\n",
      "Epoch 11: Train Loss: 0.9570\n",
      "Epoch 12: Train Loss: 0.8718\n",
      "Epoch 13: Train Loss: 0.7700\n",
      "Epoch 14: Train Loss: 0.6517\n",
      "Epoch 15: Train Loss: 0.5346\n",
      "Epoch 16: Train Loss: 0.4250\n",
      "Epoch 17: Train Loss: 0.3199\n",
      "Epoch 18: Train Loss: 0.2813\n",
      "Epoch 19: Train Loss: 0.2245\n",
      "Epoch 20: Train Loss: 0.2035\n",
      "Epoch 21: Train Loss: 0.1759\n",
      "Epoch 22: Train Loss: 0.2014\n",
      "Epoch 23: Train Loss: 0.1585\n",
      "Epoch 24: Train Loss: 0.1386\n",
      "Epoch 25: Train Loss: 0.1430\n"
     ]
    }
   ],
   "source": [
    "model = models.resnet50()\n",
    "num_ftrs = model.fc.in_features\n",
    "model.fc = nn.Linear(num_ftrs, 5)\n",
    "model = model.to(device)\n",
    "criterion = nn.CrossEntropyLoss()\n",
    "optimizer = optim.Adam(model.parameters(), lr=0.0001)#Hyperparameters changed with no validation set\n",
    "num_epochs = 25\n",
    "for epoch in range(num_epochs): \n",
    "    model.train()  \n",
    "    total_loss = 0\n",
    "    for images, labels in train_loader:\n",
    "        images, labels = images.to(device), labels.to(device)  \n",
    "        optimizer.zero_grad()  \n",
    "        outputs = model(images)  \n",
    "        loss = criterion(outputs, labels)\n",
    "        loss.backward()  \n",
    "        optimizer.step()  \n",
    "        total_loss += loss.item() * images.size(0) \n",
    "\n",
    "    print(f'Epoch {epoch+1}: Train Loss: {total_loss / len(train_loader.dataset):.4f}')\n",
    "\n"
   ]
  },
  {
   "cell_type": "code",
   "execution_count": 7,
   "id": "3f1a9b0a-562b-4778-a2f6-2b03430a0e47",
   "metadata": {},
   "outputs": [
    {
     "name": "stdout",
     "output_type": "stream",
     "text": [
      "                                     precision    recall  f1-score   support\n",
      "\n",
      "     Cassava Bacterial Blight (CBB)       0.20      0.33      0.25       221\n",
      "Cassava Brown Streak Disease (CBSD)       0.16      0.56      0.25       431\n",
      "         Cassava Green Mottle (CGM)       0.13      0.34      0.19       493\n",
      "       Cassava Mosaic Disease (CMD)       0.96      0.66      0.78      8027\n",
      "                            Healthy       0.16      0.35      0.22       466\n",
      "\n",
      "                           accuracy                           0.62      9638\n",
      "                          macro avg       0.32      0.45      0.34      9638\n",
      "                       weighted avg       0.83      0.62      0.69      9638\n",
      "\n"
     ]
    }
   ],
   "source": [
    "labels, preds = get_predictions(model, test_loader)\n",
    "print(classification_report(labels, preds, target_names=['Cassava Bacterial Blight (CBB)', 'Cassava Brown Streak Disease (CBSD)','Cassava Green Mottle (CGM)','Cassava Mosaic Disease (CMD)','Healthy']))"
   ]
  },
  {
   "cell_type": "code",
   "execution_count": 11,
   "id": "9bb182f1-89b6-42b8-b6c6-8be87f74250f",
   "metadata": {},
   "outputs": [
    {
     "name": "stderr",
     "output_type": "stream",
     "text": [
      "C:\\Users\\abdul\\miniconda3\\envs\\py310\\lib\\site-packages\\torchvision\\models\\_utils.py:208: UserWarning: The parameter 'pretrained' is deprecated since 0.13 and may be removed in the future, please use 'weights' instead.\n",
      "  warnings.warn(\n",
      "C:\\Users\\abdul\\miniconda3\\envs\\py310\\lib\\site-packages\\torchvision\\models\\_utils.py:223: UserWarning: Arguments other than a weight enum or `None` for 'weights' are deprecated since 0.13 and may be removed in the future. The current behavior is equivalent to passing `weights=ResNeXt50_32X4D_Weights.IMAGENET1K_V1`. You can also use `weights=ResNeXt50_32X4D_Weights.DEFAULT` to get the most up-to-date weights.\n",
      "  warnings.warn(msg)\n",
      "Downloading: \"https://download.pytorch.org/models/resnext50_32x4d-7cdf4587.pth\" to C:\\Users\\abdul/.cache\\torch\\hub\\checkpoints\\resnext50_32x4d-7cdf4587.pth\n",
      "100%|█████████████████████████████████████████████████████████████████████████████| 95.8M/95.8M [01:00<00:00, 1.65MB/s]\n"
     ]
    },
    {
     "name": "stdout",
     "output_type": "stream",
     "text": [
      "Epoch 1: Train Loss: 0.7887\n",
      "Epoch 2: Train Loss: 0.4157\n",
      "Epoch 3: Train Loss: 0.2025\n",
      "Epoch 4: Train Loss: 0.1370\n",
      "Epoch 5: Train Loss: 0.1058\n",
      "Epoch 6: Train Loss: 0.0944\n",
      "Epoch 7: Train Loss: 0.0832\n",
      "Epoch 8: Train Loss: 0.0706\n",
      "Epoch 9: Train Loss: 0.0706\n",
      "Epoch 10: Train Loss: 0.0613\n",
      "Epoch 11: Train Loss: 0.0530\n",
      "Epoch 12: Train Loss: 0.0786\n",
      "Epoch 13: Train Loss: 0.0485\n",
      "Epoch 14: Train Loss: 0.0448\n",
      "Epoch 15: Train Loss: 0.0552\n",
      "Epoch 16: Train Loss: 0.0453\n",
      "Epoch 17: Train Loss: 0.0390\n",
      "Epoch 18: Train Loss: 0.0403\n",
      "Epoch 19: Train Loss: 0.0538\n",
      "Epoch 20: Train Loss: 0.0431\n",
      "Epoch 21: Train Loss: 0.0495\n",
      "Epoch 22: Train Loss: 0.0349\n",
      "Epoch 23: Train Loss: 0.0224\n",
      "Epoch 24: Train Loss: 0.0354\n",
      "Epoch 25: Train Loss: 0.0482\n"
     ]
    }
   ],
   "source": [
    "model = models.resnext50_32x4d(pretrained=True)\n",
    "num_ftrs = model.fc.in_features\n",
    "model.fc = nn.Linear(num_ftrs, 5)\n",
    "model = model.to(device)\n",
    "criterion = nn.CrossEntropyLoss()\n",
    "optimizer = optim.Adam(model.parameters(), lr=0.0001)\n",
    "num_epochs = 25\n",
    "for epoch in range(num_epochs): \n",
    "    model.train()  \n",
    "    total_loss = 0\n",
    "    for images, labels in train_loader:\n",
    "        images, labels = images.to(device), labels.to(device)  \n",
    "        optimizer.zero_grad()  \n",
    "        outputs = model(images)  \n",
    "        loss = criterion(outputs, labels)  #\n",
    "        loss.backward()  \n",
    "        optimizer.step()  \n",
    "        total_loss += loss.item() * images.size(0)  #\n",
    "\n",
    "    # Print the average loss for the epoch\n",
    "    print(f'Epoch {epoch+1}: Train Loss: {total_loss / len(train_loader.dataset):.4f}')\n",
    "\n"
   ]
  },
  {
   "cell_type": "code",
   "execution_count": 12,
   "id": "e01ace0a-5db4-459a-b4d1-acd7a9ec03bd",
   "metadata": {},
   "outputs": [
    {
     "name": "stdout",
     "output_type": "stream",
     "text": [
      "                                     precision    recall  f1-score   support\n",
      "\n",
      "     Cassava Bacterial Blight (CBB)       0.42      0.62      0.50       221\n",
      "Cassava Brown Streak Disease (CBSD)       0.44      0.75      0.56       431\n",
      "         Cassava Green Mottle (CGM)       0.50      0.64      0.56       493\n",
      "       Cassava Mosaic Disease (CMD)       0.98      0.90      0.94      8027\n",
      "                            Healthy       0.49      0.63      0.55       466\n",
      "\n",
      "                           accuracy                           0.86      9638\n",
      "                          macro avg       0.57      0.71      0.62      9638\n",
      "                       weighted avg       0.90      0.86      0.87      9638\n",
      "\n"
     ]
    }
   ],
   "source": [
    "labels, preds = get_predictions(model, test_loader)\n",
    "print(classification_report(labels, preds, target_names=['Cassava Bacterial Blight (CBB)', 'Cassava Brown Streak Disease (CBSD)','Cassava Green Mottle (CGM)','Cassava Mosaic Disease (CMD)','Healthy']))"
   ]
  },
  {
   "cell_type": "code",
   "execution_count": 9,
   "id": "ca792041-ac73-4aad-8e70-d53cb2975829",
   "metadata": {},
   "outputs": [
    {
     "name": "stderr",
     "output_type": "stream",
     "text": [
      "C:\\Users\\abdul\\miniconda3\\envs\\py310\\lib\\site-packages\\torchvision\\models\\_utils.py:208: UserWarning: The parameter 'pretrained' is deprecated since 0.13 and may be removed in the future, please use 'weights' instead.\n",
      "  warnings.warn(\n",
      "C:\\Users\\abdul\\miniconda3\\envs\\py310\\lib\\site-packages\\torchvision\\models\\_utils.py:223: UserWarning: Arguments other than a weight enum or `None` for 'weights' are deprecated since 0.13 and may be removed in the future. The current behavior is equivalent to passing `weights=ResNet152_Weights.IMAGENET1K_V1`. You can also use `weights=ResNet152_Weights.DEFAULT` to get the most up-to-date weights.\n",
      "  warnings.warn(msg)\n"
     ]
    },
    {
     "name": "stdout",
     "output_type": "stream",
     "text": [
      "Epoch 1: Train Loss: 0.8266\n",
      "Epoch 2: Train Loss: 0.5086\n",
      "Epoch 3: Train Loss: 0.3035\n",
      "Epoch 4: Train Loss: 0.1788\n",
      "Epoch 5: Train Loss: 0.1288\n",
      "Epoch 6: Train Loss: 0.1159\n",
      "Epoch 7: Train Loss: 0.0941\n",
      "Epoch 8: Train Loss: 0.0805\n",
      "Epoch 9: Train Loss: 0.0727\n",
      "Epoch 10: Train Loss: 0.0704\n",
      "Epoch 11: Train Loss: 0.0715\n",
      "Epoch 12: Train Loss: 0.0694\n",
      "Epoch 13: Train Loss: 0.0464\n",
      "Epoch 14: Train Loss: 0.0600\n",
      "Epoch 15: Train Loss: 0.0553\n",
      "Epoch 16: Train Loss: 0.0548\n",
      "Epoch 17: Train Loss: 0.0389\n",
      "Epoch 18: Train Loss: 0.0535\n",
      "Epoch 19: Train Loss: 0.0489\n",
      "Epoch 20: Train Loss: 0.0449\n",
      "Epoch 21: Train Loss: 0.0449\n",
      "Epoch 22: Train Loss: 0.0370\n",
      "Epoch 23: Train Loss: 0.0372\n",
      "Epoch 24: Train Loss: 0.0483\n",
      "Epoch 25: Train Loss: 0.0305\n"
     ]
    }
   ],
   "source": [
    "model = models.resnet152(pretrained=True)\n",
    "num_ftrs = model.fc.in_features\n",
    "model.fc = nn.Linear(num_ftrs, 5)\n",
    "model = model.to(device)\n",
    "criterion = nn.CrossEntropyLoss()\n",
    "optimizer = optim.Adam(model.parameters(), lr=0.0001)\n",
    "num_epochs = 25\n",
    "for epoch in range(num_epochs): \n",
    "    model.train()  \n",
    "    total_loss = 0\n",
    "    for images, labels in train_loader:\n",
    "        images, labels = images.to(device), labels.to(device)  \n",
    "        optimizer.zero_grad()  \n",
    "        outputs = model(images)  \n",
    "        loss = criterion(outputs, labels)  #\n",
    "        loss.backward()  \n",
    "        optimizer.step()  \n",
    "        total_loss += loss.item() * images.size(0)  #\n",
    "\n",
    "    # Print the average loss for the epoch\n",
    "    print(f'Epoch {epoch+1}: Train Loss: {total_loss / len(train_loader.dataset):.4f}')\n",
    "\n"
   ]
  },
  {
   "cell_type": "code",
   "execution_count": 10,
   "id": "c4fae224-903a-433a-ae4c-03eb72bcc486",
   "metadata": {},
   "outputs": [
    {
     "name": "stdout",
     "output_type": "stream",
     "text": [
      "                                     precision    recall  f1-score   support\n",
      "\n",
      "     Cassava Bacterial Blight (CBB)       0.45      0.58      0.50       221\n",
      "Cassava Brown Streak Disease (CBSD)       0.48      0.78      0.59       431\n",
      "         Cassava Green Mottle (CGM)       0.39      0.71      0.50       493\n",
      "       Cassava Mosaic Disease (CMD)       0.99      0.82      0.90      8027\n",
      "                            Healthy       0.31      0.70      0.43       466\n",
      "\n",
      "                           accuracy                           0.80      9638\n",
      "                          macro avg       0.52      0.72      0.58      9638\n",
      "                       weighted avg       0.89      0.80      0.83      9638\n",
      "\n"
     ]
    }
   ],
   "source": [
    "labels, preds = get_predictions(model, test_loader)\n",
    "print(classification_report(labels, preds, target_names=['Cassava Bacterial Blight (CBB)', 'Cassava Brown Streak Disease (CBSD)','Cassava Green Mottle (CGM)','Cassava Mosaic Disease (CMD)','Healthy']))"
   ]
  },
  {
   "cell_type": "code",
   "execution_count": 12,
   "id": "f01fe92c-7933-4258-b083-d11f8f82a297",
   "metadata": {},
   "outputs": [
    {
     "name": "stdout",
     "output_type": "stream",
     "text": [
      "Epoch 1: Train Loss: 0.9330\n",
      "Epoch 2: Train Loss: 0.5645\n",
      "Epoch 3: Train Loss: 0.2909\n",
      "Epoch 4: Train Loss: 0.1311\n",
      "Epoch 5: Train Loss: 0.0850\n",
      "Epoch 6: Train Loss: 0.0579\n",
      "Epoch 7: Train Loss: 0.0502\n",
      "Epoch 8: Train Loss: 0.0559\n",
      "Epoch 9: Train Loss: 0.0600\n",
      "Epoch 10: Train Loss: 0.0553\n",
      "Epoch 11: Train Loss: 0.0441\n",
      "Epoch 12: Train Loss: 0.0361\n",
      "Epoch 13: Train Loss: 0.0284\n",
      "Epoch 14: Train Loss: 0.0234\n",
      "Epoch 15: Train Loss: 0.0173\n",
      "Epoch 16: Train Loss: 0.0177\n",
      "Epoch 17: Train Loss: 0.0146\n",
      "Epoch 18: Train Loss: 0.0126\n",
      "Epoch 19: Train Loss: 0.0125\n",
      "Epoch 20: Train Loss: 0.0115\n",
      "Epoch 21: Train Loss: 0.0093\n",
      "Epoch 22: Train Loss: 0.0072\n",
      "Epoch 23: Train Loss: 0.0064\n",
      "Epoch 24: Train Loss: 0.0097\n",
      "Epoch 25: Train Loss: 0.0101\n"
     ]
    }
   ],
   "source": [
    "model = models.resnet50(pretrained=True)\n",
    "num_ftrs = model.fc.in_features\n",
    "model.fc = nn.Linear(num_ftrs, 5)\n",
    "model = model.to(device)\n",
    "criterion = nn.CrossEntropyLoss()\n",
    "optimizer = optim.SGD(model.parameters(), lr=0.001, momentum=0.9)\n",
    "num_epochs = 25\n",
    "for epoch in range(num_epochs): \n",
    "    model.train()  \n",
    "    total_loss = 0\n",
    "    for images, labels in train_loader:\n",
    "        images, labels = images.to(device), labels.to(device)  \n",
    "        optimizer.zero_grad()  \n",
    "        outputs = model(images)  \n",
    "        loss = criterion(outputs, labels) \n",
    "        loss.backward()  \n",
    "        optimizer.step()  \n",
    "        total_loss += loss.item() * images.size(0) \n",
    "        l_loss / len(train_loader.dataset):.4f}')\n",
    "\n"
   ]
  },
  {
   "cell_type": "code",
   "execution_count": 13,
   "id": "a8f22b7f-c9f3-47d5-be7f-4b822d3c4d89",
   "metadata": {},
   "outputs": [
    {
     "name": "stdout",
     "output_type": "stream",
     "text": [
      "                                     precision    recall  f1-score   support\n",
      "\n",
      "     Cassava Bacterial Blight (CBB)       0.39      0.58      0.46       221\n",
      "Cassava Brown Streak Disease (CBSD)       0.59      0.77      0.67       431\n",
      "         Cassava Green Mottle (CGM)       0.55      0.68      0.61       493\n",
      "       Cassava Mosaic Disease (CMD)       0.98      0.91      0.94      8027\n",
      "                            Healthy       0.43      0.67      0.53       466\n",
      "\n",
      "                           accuracy                           0.87      9638\n",
      "                          macro avg       0.59      0.72      0.64      9638\n",
      "                       weighted avg       0.90      0.87      0.88      9638\n",
      "\n"
     ]
    }
   ],
   "source": [
    "labels, preds = get_predictions(model, test_loader)\n",
    "print(classification_report(labels, preds, target_names=['Cassava Bacterial Blight (CBB)', 'Cassava Brown Streak Disease (CBSD)','Cassava Green Mottle (CGM)','Cassava Mosaic Disease (CMD)','Healthy']))"
   ]
  }
 ],
 "metadata": {
  "kernelspec": {
   "display_name": "Python 3 (ipykernel)",
   "language": "python",
   "name": "python3"
  },
  "language_info": {
   "codemirror_mode": {
    "name": "ipython",
    "version": 3
   },
   "file_extension": ".py",
   "mimetype": "text/x-python",
   "name": "python",
   "nbconvert_exporter": "python",
   "pygments_lexer": "ipython3",
   "version": "3.10.13"
  }
 },
 "nbformat": 4,
 "nbformat_minor": 5
}
