{
 "cells": [
  {
   "cell_type": "markdown",
   "id": "e3a1e31f-bd85-45f7-904e-e8c1da93b0a6",
   "metadata": {},
   "source": [
    "# Importing Libraries\n"
   ]
  },
  {
   "cell_type": "code",
   "execution_count": 1,
   "id": "52225ff0-b69d-4c66-b804-e16a97e9c48f",
   "metadata": {},
   "outputs": [],
   "source": [
    "from torchvision import models\n",
    "from torchvision import transforms, datasets, models\n",
    "from torchvision.datasets import ImageFolder\n",
    "from torch.utils.data import DataLoader, random_split\n",
    "from torch.cuda.amp import GradScaler, autocast\n",
    "import torch.nn as nn\n",
    "import torch.nn.functional as F\n",
    "import torch.optim as optim\n",
    "import torch\n",
    "from PIL import Image"
   ]
  },
  {
   "cell_type": "markdown",
   "id": "71322881-8668-40a5-84f3-0de9f845f45f",
   "metadata": {},
   "source": [
    "# Setting up GPU"
   ]
  },
  {
   "cell_type": "code",
   "execution_count": 2,
   "id": "bd5d1ebb-b7d2-4245-abf3-937fbddd483e",
   "metadata": {},
   "outputs": [
    {
     "name": "stdout",
     "output_type": "stream",
     "text": [
      "Using device: cuda:0\n"
     ]
    }
   ],
   "source": [
    "device = torch.device(\"cuda:0\" if torch.cuda.is_available() else \"cpu\")\n",
    "print(f'Using device: {device}')\n",
    "if torch.cuda.device_count() > 1:\n",
    "    print(f\"Number of GPUs: {torch.cuda.device_count()}\")\n",
    "    model = torch.nn.DataParallel(model)\n",
    "    "
   ]
  },
  {
   "cell_type": "markdown",
   "id": "0bd2a7b8-2f13-4ad9-9161-821666c4d2af",
   "metadata": {},
   "source": [
    "# Setting up model"
   ]
  },
  {
   "cell_type": "code",
   "execution_count": 7,
   "id": "c332502d-aac1-4d86-b504-877ba8db620a",
   "metadata": {},
   "outputs": [],
   "source": [
    "transform = transforms.Compose([\n",
    "    transforms.Resize((224, 224)),\n",
    "    transforms.ToTensor(),\n",
    "    transforms.Normalize([0.485, 0.456, 0.406], [0.229, 0.224, 0.225])  \n",
    "])"
   ]
  },
  {
   "cell_type": "code",
   "execution_count": 15,
   "id": "ea7110ce-bdbf-4d4e-904d-1138afa3dcab",
   "metadata": {},
   "outputs": [
    {
     "name": "stderr",
     "output_type": "stream",
     "text": [
      "C:\\Users\\abdul\\miniconda3\\envs\\py310\\lib\\site-packages\\torchvision\\models\\_utils.py:208: UserWarning: The parameter 'pretrained' is deprecated since 0.13 and may be removed in the future, please use 'weights' instead.\n",
      "  warnings.warn(\n",
      "C:\\Users\\abdul\\miniconda3\\envs\\py310\\lib\\site-packages\\torchvision\\models\\_utils.py:223: UserWarning: Arguments other than a weight enum or `None` for 'weights' are deprecated since 0.13 and may be removed in the future. The current behavior is equivalent to passing `weights=ResNet50_Weights.IMAGENET1K_V1`. You can also use `weights=ResNet50_Weights.DEFAULT` to get the most up-to-date weights.\n",
      "  warnings.warn(msg)\n"
     ]
    },
    {
     "name": "stdout",
     "output_type": "stream",
     "text": [
      "Epoch 1: Train Loss: 1.2249\n",
      "Epoch 2: Train Loss: 0.8215\n",
      "Epoch 3: Train Loss: 0.6062\n",
      "Epoch 4: Train Loss: 0.3984\n",
      "Epoch 5: Train Loss: 0.2389\n",
      "Epoch 6: Train Loss: 0.1266\n",
      "Epoch 7: Train Loss: 0.0642\n",
      "Epoch 8: Train Loss: 0.0409\n",
      "Epoch 9: Train Loss: 0.0266\n",
      "Epoch 10: Train Loss: 0.0197\n",
      "Epoch 11: Train Loss: 0.0149\n",
      "Epoch 12: Train Loss: 0.0146\n",
      "Epoch 13: Train Loss: 0.0095\n",
      "Epoch 14: Train Loss: 0.0090\n",
      "Epoch 15: Train Loss: 0.0103\n",
      "Epoch 16: Train Loss: 0.0085\n",
      "Epoch 17: Train Loss: 0.0068\n",
      "Epoch 18: Train Loss: 0.0073\n",
      "Epoch 19: Train Loss: 0.0050\n",
      "Epoch 20: Train Loss: 0.0052\n"
     ]
    }
   ],
   "source": [
    "dataset_path = 'D:\\\\Datasets\\\\CropDiseaseClassificationOriginal\\\\split_crop_diseasev2\\\\train' \n",
    "testing_path = 'D:\\\\Datasets\\\\CropDiseaseClassificationOriginal\\\\split_crop_diseasev2\\\\test' \n",
    "dataset = ImageFolder(root=dataset_path, transform=transform)\n",
    "test_dataset = ImageFolder(root=testing_path, transform=transform)\n",
    "batch_size = 32\n",
    "num_workers = 4\n",
    "pin_memory = True\n",
    "\n",
    "train_loader = DataLoader(train_dataset, batch_size=batch_size, shuffle=True, num_workers=num_workers, pin_memory=pin_memory)\n",
    "test_loader = DataLoader(test_dataset, batch_size=batch_size, shuffle=False, num_workers=num_workers, pin_memory=pin_memory)\n",
    "\n",
    "model = models.resnet50(pretrained=True)\n",
    "num_ftrs = model.fc.in_features\n",
    "model.fc = nn.Linear(num_ftrs, 5)\n",
    "model = model.to(device)\n",
    "criterion = nn.CrossEntropyLoss()\n",
    "optimizer = optim.SGD(model.parameters(), lr=0.0005, momentum=0.9)\n",
    "\n",
    "num_epochs=20\n",
    "\n",
    "for epoch in range(num_epochs): \n",
    "    model.train()  \n",
    "    total_loss = 0\n",
    "    for images, labels in train_loader:\n",
    "        images, labels = images.to(device), labels.to(device)  \n",
    "        optimizer.zero_grad()  \n",
    "        outputs = model(images)  \n",
    "        loss = criterion(outputs, labels) \n",
    "        loss.backward()  \n",
    "        optimizer.step()  \n",
    "        total_loss += loss.item() * images.size(0)\n",
    "    print(f'Epoch {epoch+1}: Train Loss: {total_loss / len(train_loader.dataset):.4f}')\n",
    "\n"
   ]
  },
  {
   "cell_type": "code",
   "execution_count": 20,
   "id": "6cc0bbd8-5d16-44cf-ad99-aaa93c9cfcff",
   "metadata": {},
   "outputs": [
    {
     "name": "stdout",
     "output_type": "stream",
     "text": [
      "                                     precision    recall  f1-score   support\n",
      "\n",
      "     Cassava Bacterial Blight (CBB)       0.59      0.56      0.57       221\n",
      "Cassava Brown Streak Disease (CBSD)       0.73      0.71      0.72       431\n",
      "         Cassava Green Mottle (CGM)       0.76      0.68      0.72       493\n",
      "       Cassava Mosaic Disease (CMD)       0.80      0.86      0.83       528\n",
      "                            Healthy       0.61      0.65      0.63       466\n",
      "\n",
      "                           accuracy                           0.71      2139\n",
      "                          macro avg       0.70      0.69      0.69      2139\n",
      "                       weighted avg       0.71      0.71      0.71      2139\n",
      "\n"
     ]
    }
   ],
   "source": [
    "from sklearn.metrics import classification_report\n",
    "\n",
    "def get_predictions(model, data_loader):\n",
    "    model.eval()\n",
    "    all_preds = []\n",
    "    all_labels = []\n",
    "    with torch.no_grad():\n",
    "        for images, labels in data_loader:\n",
    "            images = images.to(device)\n",
    "            labels = labels.to(device)\n",
    "            outputs = model(images)\n",
    "            _, preds = torch.max(outputs, 1)\n",
    "            all_preds.extend(preds.cpu().numpy())\n",
    "            all_labels.extend(labels.cpu().numpy())\n",
    "    return all_labels, all_preds\n",
    "\n",
    "labels, preds = get_predictions(model, test_loader)\n",
    "print(classification_report(labels, preds, target_names=['Cassava Bacterial Blight (CBB)', 'Cassava Brown Streak Disease (CBSD)','Cassava Green Mottle (CGM)','Cassava Mosaic Disease (CMD)','Healthy']))"
   ]
  },
  {
   "cell_type": "code",
   "execution_count": 22,
   "id": "9bb182f1-89b6-42b8-b6c6-8be87f74250f",
   "metadata": {},
   "outputs": [
    {
     "name": "stderr",
     "output_type": "stream",
     "text": [
      "C:\\Users\\abdul\\miniconda3\\envs\\py310\\lib\\site-packages\\torchvision\\models\\_utils.py:208: UserWarning: The parameter 'pretrained' is deprecated since 0.13 and may be removed in the future, please use 'weights' instead.\n",
      "  warnings.warn(\n",
      "C:\\Users\\abdul\\miniconda3\\envs\\py310\\lib\\site-packages\\torchvision\\models\\_utils.py:223: UserWarning: Arguments other than a weight enum or `None` for 'weights' are deprecated since 0.13 and may be removed in the future. The current behavior is equivalent to passing `weights=ResNeXt50_32X4D_Weights.IMAGENET1K_V1`. You can also use `weights=ResNeXt50_32X4D_Weights.DEFAULT` to get the most up-to-date weights.\n",
      "  warnings.warn(msg)\n"
     ]
    },
    {
     "name": "stdout",
     "output_type": "stream",
     "text": [
      "Epoch 1: Train Loss: 0.8608\n",
      "Epoch 2: Train Loss: 0.3981\n",
      "Epoch 3: Train Loss: 0.1768\n",
      "Epoch 4: Train Loss: 0.1087\n",
      "Epoch 5: Train Loss: 0.0970\n",
      "Epoch 6: Train Loss: 0.0861\n",
      "Epoch 7: Train Loss: 0.0747\n",
      "Epoch 8: Train Loss: 0.0903\n",
      "Epoch 9: Train Loss: 0.0704\n",
      "Epoch 10: Train Loss: 0.0774\n",
      "Epoch 11: Train Loss: 0.0846\n",
      "Epoch 12: Train Loss: 0.0557\n",
      "Epoch 13: Train Loss: 0.0306\n",
      "Epoch 14: Train Loss: 0.0696\n",
      "Epoch 15: Train Loss: 0.0714\n",
      "Epoch 16: Train Loss: 0.0702\n",
      "Epoch 17: Train Loss: 0.0238\n",
      "Epoch 18: Train Loss: 0.0491\n",
      "Epoch 19: Train Loss: 0.0600\n",
      "Epoch 20: Train Loss: 0.0245\n",
      "Epoch 21: Train Loss: 0.0254\n",
      "Epoch 22: Train Loss: 0.0648\n",
      "Epoch 23: Train Loss: 0.0220\n",
      "Epoch 24: Train Loss: 0.0140\n",
      "Epoch 25: Train Loss: 0.0243\n"
     ]
    }
   ],
   "source": [
    "#BEST ONE YET\n",
    "model = models.resnext50_32x4d(pretrained=True)\n",
    "num_ftrs = model.fc.in_features\n",
    "model.fc = nn.Linear(num_ftrs, 5)\n",
    "model = model.to(device)\n",
    "criterion = nn.CrossEntropyLoss()\n",
    "optimizer = optim.Adam(model.parameters(), lr=0.0001)\n",
    "num_epochs = 25\n",
    "for epoch in range(num_epochs): \n",
    "    model.train()  \n",
    "    total_loss = 0\n",
    "    for images, labels in train_loader:\n",
    "        images, labels = images.to(device), labels.to(device)  \n",
    "        optimizer.zero_grad()  \n",
    "        outputs = model(images)  \n",
    "        loss = criterion(outputs, labels) \n",
    "        loss.backward()  \n",
    "        optimizer.step()  \n",
    "        total_loss += loss.item() * images.size(0)  \n",
    "    print(f'Epoch {epoch+1}: Train Loss: {total_loss / len(train_loader.dataset):.4f}')\n",
    "\n"
   ]
  },
  {
   "cell_type": "code",
   "execution_count": 23,
   "id": "e01ace0a-5db4-459a-b4d1-acd7a9ec03bd",
   "metadata": {},
   "outputs": [
    {
     "name": "stdout",
     "output_type": "stream",
     "text": [
      "                                     precision    recall  f1-score   support\n",
      "\n",
      "     Cassava Bacterial Blight (CBB)       0.56      0.62      0.59       221\n",
      "Cassava Brown Streak Disease (CBSD)       0.77      0.70      0.73       431\n",
      "         Cassava Green Mottle (CGM)       0.75      0.80      0.77       493\n",
      "       Cassava Mosaic Disease (CMD)       0.80      0.86      0.83       528\n",
      "                            Healthy       0.68      0.60      0.64       466\n",
      "\n",
      "                           accuracy                           0.73      2139\n",
      "                          macro avg       0.71      0.72      0.71      2139\n",
      "                       weighted avg       0.73      0.73      0.73      2139\n",
      "\n"
     ]
    }
   ],
   "source": [
    "labels, preds = get_predictions(model, test_loader)\n",
    "print(classification_report(labels, preds, target_names=['Cassava Bacterial Blight (CBB)', 'Cassava Brown Streak Disease (CBSD)','Cassava Green Mottle (CGM)','Cassava Mosaic Disease (CMD)','Healthy']))"
   ]
  },
  {
   "cell_type": "code",
   "execution_count": 25,
   "id": "ca792041-ac73-4aad-8e70-d53cb2975829",
   "metadata": {},
   "outputs": [
    {
     "name": "stdout",
     "output_type": "stream",
     "text": [
      "Epoch 1: Train Loss: 0.9118\n",
      "Epoch 2: Train Loss: 0.5199\n",
      "Epoch 3: Train Loss: 0.2722\n",
      "Epoch 4: Train Loss: 0.1586\n"
     ]
    },
    {
     "name": "stderr",
     "output_type": "stream",
     "text": [
      "Exception ignored in: <function _MultiProcessingDataLoaderIter.__del__ at 0x0000023D4C47D990>\n",
      "Traceback (most recent call last):\n",
      "  File \"C:\\Users\\abdul\\miniconda3\\envs\\py310\\lib\\site-packages\\torch\\utils\\data\\dataloader.py\", line 1479, in __del__\n",
      "    self._shutdown_workers()\n",
      "  File \"C:\\Users\\abdul\\miniconda3\\envs\\py310\\lib\\site-packages\\torch\\utils\\data\\dataloader.py\", line 1437, in _shutdown_workers\n",
      "    if self._persistent_workers or self._workers_status[worker_id]:\n",
      "AttributeError: '_MultiProcessingDataLoaderIter' object has no attribute '_workers_status'\n"
     ]
    },
    {
     "name": "stdout",
     "output_type": "stream",
     "text": [
      "Epoch 5: Train Loss: 0.1521\n",
      "Epoch 6: Train Loss: 0.0811\n",
      "Epoch 7: Train Loss: 0.0703\n",
      "Epoch 8: Train Loss: 0.1054\n",
      "Epoch 9: Train Loss: 0.0711\n",
      "Epoch 10: Train Loss: 0.0781\n",
      "Epoch 11: Train Loss: 0.0630\n",
      "Epoch 12: Train Loss: 0.1006\n",
      "Epoch 13: Train Loss: 0.0479\n",
      "Epoch 14: Train Loss: 0.0680\n",
      "Epoch 15: Train Loss: 0.0361\n",
      "Epoch 16: Train Loss: 0.0539\n",
      "Epoch 17: Train Loss: 0.1290\n",
      "Epoch 18: Train Loss: 0.0374\n",
      "Epoch 19: Train Loss: 0.0216\n",
      "Epoch 20: Train Loss: 0.0329\n",
      "Epoch 21: Train Loss: 0.0154\n",
      "Epoch 22: Train Loss: 0.0181\n",
      "Epoch 23: Train Loss: 0.0972\n",
      "Epoch 24: Train Loss: 0.0849\n",
      "Epoch 25: Train Loss: 0.0619\n"
     ]
    }
   ],
   "source": [
    "model = models.resnet152(pretrained=True)\n",
    "num_ftrs = model.fc.in_features\n",
    "model.fc = nn.Linear(num_ftrs, 5)\n",
    "model = model.to(device)\n",
    "criterion = nn.CrossEntropyLoss()\n",
    "optimizer = optim.Adam(model.parameters(), lr=0.0001)\n",
    "num_epochs = 25\n",
    "for epoch in range(num_epochs): \n",
    "    model.train()  \n",
    "    total_loss = 0\n",
    "    for images, labels in train_loader:\n",
    "        images, labels = images.to(device), labels.to(device)  \n",
    "        optimizer.zero_grad()  \n",
    "        outputs = model(images)  \n",
    "        loss = criterion(outputs, labels) \n",
    "        loss.backward()  \n",
    "        optimizer.step()  \n",
    "        total_loss += loss.item() * images.size(0)  \n",
    "    print(f'Epoch {epoch+1}: Train Loss: {total_loss / len(train_loader.dataset):.4f}')"
   ]
  },
  {
   "cell_type": "code",
   "execution_count": 26,
   "id": "c4fae224-903a-433a-ae4c-03eb72bcc486",
   "metadata": {},
   "outputs": [
    {
     "name": "stdout",
     "output_type": "stream",
     "text": [
      "                                     precision    recall  f1-score   support\n",
      "\n",
      "     Cassava Bacterial Blight (CBB)       0.52      0.56      0.54       221\n",
      "Cassava Brown Streak Disease (CBSD)       0.83      0.66      0.73       431\n",
      "         Cassava Green Mottle (CGM)       0.78      0.68      0.73       493\n",
      "       Cassava Mosaic Disease (CMD)       0.81      0.84      0.82       528\n",
      "                            Healthy       0.59      0.75      0.66       466\n",
      "\n",
      "                           accuracy                           0.72      2139\n",
      "                          macro avg       0.71      0.70      0.70      2139\n",
      "                       weighted avg       0.73      0.72      0.72      2139\n",
      "\n"
     ]
    }
   ],
   "source": [
    "labels, preds = get_predictions(model, test_loader)\n",
    "print(classification_report(labels, preds, target_names=['Cassava Bacterial Blight (CBB)', 'Cassava Brown Streak Disease (CBSD)','Cassava Green Mottle (CGM)','Cassava Mosaic Disease (CMD)','Healthy']))"
   ]
  }
 ],
 "metadata": {
  "kernelspec": {
   "display_name": "Python 3 (ipykernel)",
   "language": "python",
   "name": "python3"
  },
  "language_info": {
   "codemirror_mode": {
    "name": "ipython",
    "version": 3
   },
   "file_extension": ".py",
   "mimetype": "text/x-python",
   "name": "python",
   "nbconvert_exporter": "python",
   "pygments_lexer": "ipython3",
   "version": "3.10.13"
  }
 },
 "nbformat": 4,
 "nbformat_minor": 5
}
