{
 "cells": [
  {
   "cell_type": "code",
   "execution_count": 17,
   "id": "78588d31-1298-4ccc-977b-0b4bc8f74f9a",
   "metadata": {},
   "outputs": [],
   "source": [
    "from torchvision import models\n",
    "from torchvision import transforms, datasets, models\n",
    "from torchvision.datasets import ImageFolder\n",
    "from torch.utils.data import DataLoader, random_split\n",
    "from torch.cuda.amp import GradScaler, autocast\n",
    "import torch.nn as nn\n",
    "import torch.nn.functional as F\n",
    "import torch.optim as optim\n",
    "import torch\n",
    "from PIL import Image\n",
    "import csv\n",
    "import os\n",
    "from sklearn.metrics import classification_report\n"
   ]
  },
  {
   "cell_type": "code",
   "execution_count": 11,
   "id": "697b61a5-03e5-4b86-bedb-8d4f079c6751",
   "metadata": {},
   "outputs": [
    {
     "name": "stdout",
     "output_type": "stream",
     "text": [
      "Using device: cuda:0\n"
     ]
    }
   ],
   "source": [
    "device = torch.device(\"cuda:0\" if torch.cuda.is_available() else \"cpu\")\n",
    "print(f'Using device: {device}')\n",
    "if torch.cuda.device_count() > 1:\n",
    "    print(f\"Number of GPUs: {torch.cuda.device_count()}\")\n",
    "    model = torch.nn.DataParallel(model)\n",
    "    "
   ]
  },
  {
   "cell_type": "code",
   "execution_count": 12,
   "id": "29d58839-4325-422f-8041-9c0f2661e312",
   "metadata": {},
   "outputs": [],
   "source": [
    "def create_csv(base_path,output_csv_file):\n",
    "    with open(output_csv_file, mode='w', newline='') as file:\n",
    "        writer = csv.writer(file)\n",
    "        writer.writerow([\"Image Name\", \"Label\"])  \n",
    "    \n",
    "        for folder in os.listdir(base_path):\n",
    "            folder_path = os.path.join(base_path, folder)\n",
    "            \n",
    "            if os.path.isdir(folder_path):\n",
    "                for filename in os.listdir(folder_path):\n",
    "                    if filename.lower().endswith(('.png', '.jpg', '.jpeg', '.bmp')):\n",
    "                        writer.writerow([filename, folder])\n",
    "                    else:\n",
    "                        print(filename,folder,\"CHECKING!\")\n",
    "\n",
    "train_path = \"D:\\\\Datasets\\\\CropDiseaseClassificationOriginal\\\\split_crop_diseasev2\\\\train\"\n",
    "train_csv = \"D:\\\\Datasets\\\\CropDiseaseClassificationOriginal\\\\split_crop_diseasev2\\\\image_labels.csv\"\n",
    "create_csv(train_path,train_csv)\n"
   ]
  },
  {
   "cell_type": "code",
   "execution_count": 13,
   "id": "443c6f7d-7ede-47f3-85d1-5e426f10a7f9",
   "metadata": {},
   "outputs": [],
   "source": [
    "transform = transforms.Compose([\n",
    "    transforms.Resize((224, 224)),\n",
    "    transforms.ToTensor(),\n",
    "    transforms.Normalize([0.485, 0.456, 0.406], [0.229, 0.224, 0.225])  \n",
    "])"
   ]
  },
  {
   "cell_type": "code",
   "execution_count": 15,
   "id": "a1c307ac-3d42-43fe-a1c4-f8f0924d9bca",
   "metadata": {},
   "outputs": [],
   "source": [
    "dataset_path = 'D:\\\\Datasets\\\\CropDiseaseClassificationOriginal\\\\split_crop_diseasev2\\\\train' \n",
    "testing_path = 'D:\\\\Datasets\\\\CropDiseaseClassificationOriginal\\\\split_crop_diseasev2\\\\test' \n",
    "train_dataset = ImageFolder(root=dataset_path, transform=transform)\n",
    "test_dataset = ImageFolder(root=testing_path, transform=transform)\n",
    "batch_size = 32\n",
    "num_workers = 4\n",
    "pin_memory = True\n",
    "\n",
    "train_loader = DataLoader(train_dataset, batch_size=batch_size, shuffle=True, num_workers=num_workers, pin_memory=pin_memory)\n",
    "test_loader = DataLoader(test_dataset, batch_size=batch_size, shuffle=False, num_workers=num_workers, pin_memory=pin_memory)\n"
   ]
  },
  {
   "cell_type": "code",
   "execution_count": 16,
   "id": "0e4f0b07-2aa0-42c8-aafb-aadd94b86de3",
   "metadata": {},
   "outputs": [
    {
     "name": "stderr",
     "output_type": "stream",
     "text": [
      "C:\\Users\\abdul\\miniconda3\\envs\\py310\\lib\\site-packages\\torchvision\\models\\_utils.py:208: UserWarning: The parameter 'pretrained' is deprecated since 0.13 and may be removed in the future, please use 'weights' instead.\n",
      "  warnings.warn(\n",
      "C:\\Users\\abdul\\miniconda3\\envs\\py310\\lib\\site-packages\\torchvision\\models\\_utils.py:223: UserWarning: Arguments other than a weight enum or `None` for 'weights' are deprecated since 0.13 and may be removed in the future. The current behavior is equivalent to passing `weights=ResNeXt50_32X4D_Weights.IMAGENET1K_V1`. You can also use `weights=ResNeXt50_32X4D_Weights.DEFAULT` to get the most up-to-date weights.\n",
      "  warnings.warn(msg)\n"
     ]
    },
    {
     "name": "stdout",
     "output_type": "stream",
     "text": [
      "Epoch 1: Train Loss: 0.8617\n",
      "Epoch 2: Train Loss: 0.4083\n",
      "Epoch 3: Train Loss: 0.1732\n",
      "Epoch 4: Train Loss: 0.1254\n",
      "Epoch 5: Train Loss: 0.1123\n",
      "Epoch 6: Train Loss: 0.0839\n",
      "Epoch 7: Train Loss: 0.0607\n",
      "Epoch 8: Train Loss: 0.0457\n",
      "Epoch 9: Train Loss: 0.0574\n",
      "Epoch 10: Train Loss: 0.0610\n",
      "Epoch 11: Train Loss: 0.1007\n",
      "Epoch 12: Train Loss: 0.0966\n",
      "Epoch 13: Train Loss: 0.0742\n",
      "Epoch 14: Train Loss: 0.0320\n",
      "Epoch 15: Train Loss: 0.0692\n",
      "Epoch 16: Train Loss: 0.0672\n",
      "Epoch 17: Train Loss: 0.0421\n",
      "Epoch 18: Train Loss: 0.0156\n",
      "Epoch 19: Train Loss: 0.0764\n",
      "Epoch 20: Train Loss: 0.0405\n",
      "Epoch 21: Train Loss: 0.0634\n",
      "Epoch 22: Train Loss: 0.0227\n",
      "Epoch 23: Train Loss: 0.0572\n",
      "Epoch 24: Train Loss: 0.0488\n",
      "Epoch 25: Train Loss: 0.0279\n"
     ]
    }
   ],
   "source": [
    "#BEST ONE YET\n",
    "model = models.resnext50_32x4d(pretrained=True)\n",
    "num_ftrs = model.fc.in_features\n",
    "model.fc = nn.Linear(num_ftrs, 5)\n",
    "model = model.to(device)\n",
    "criterion = nn.CrossEntropyLoss()\n",
    "optimizer = optim.Adam(model.parameters(), lr=0.0001)\n",
    "num_epochs = 25\n",
    "for epoch in range(num_epochs): \n",
    "    model.train()  \n",
    "    total_loss = 0\n",
    "    for images, labels in train_loader:\n",
    "        images, labels = images.to(device), labels.to(device)  \n",
    "        optimizer.zero_grad()  \n",
    "        outputs = model(images)  \n",
    "        loss = criterion(outputs, labels) \n",
    "        loss.backward()  \n",
    "        optimizer.step()  \n",
    "        total_loss += loss.item() * images.size(0)  \n",
    "    print(f'Epoch {epoch+1}: Train Loss: {total_loss / len(train_loader.dataset):.4f}')\n",
    "\n"
   ]
  },
  {
   "cell_type": "code",
   "execution_count": 18,
   "id": "110c21c0-6c4b-4965-8ef3-7470e882aca0",
   "metadata": {},
   "outputs": [
    {
     "name": "stdout",
     "output_type": "stream",
     "text": [
      "                                     precision    recall  f1-score   support\n",
      "\n",
      "     Cassava Bacterial Blight (CBB)       0.60      0.49      0.54       221\n",
      "Cassava Brown Streak Disease (CBSD)       0.80      0.68      0.73       431\n",
      "         Cassava Green Mottle (CGM)       0.81      0.72      0.76       493\n",
      "       Cassava Mosaic Disease (CMD)       0.84      0.83      0.83       528\n",
      "                            Healthy       0.60      0.81      0.69       466\n",
      "\n",
      "                           accuracy                           0.74      2139\n",
      "                          macro avg       0.73      0.71      0.71      2139\n",
      "                       weighted avg       0.75      0.74      0.74      2139\n",
      "\n"
     ]
    }
   ],
   "source": [
    "def get_predictions(model, data_loader):\n",
    "    model.eval()\n",
    "    all_preds = []\n",
    "    all_labels = []\n",
    "    with torch.no_grad():\n",
    "        for images, labels in data_loader:\n",
    "            images = images.to(device)\n",
    "            labels = labels.to(device)\n",
    "            outputs = model(images)\n",
    "            _, preds = torch.max(outputs, 1)\n",
    "            all_preds.extend(preds.cpu().numpy())\n",
    "            all_labels.extend(labels.cpu().numpy())\n",
    "    return all_labels, all_preds\n",
    "\n",
    "labels, preds = get_predictions(model, test_loader)\n",
    "print(classification_report(labels, preds, target_names=['Cassava Bacterial Blight (CBB)', 'Cassava Brown Streak Disease (CBSD)','Cassava Green Mottle (CGM)','Cassava Mosaic Disease (CMD)','Healthy']))"
   ]
  },
  {
   "cell_type": "code",
   "execution_count": 19,
   "id": "f3d6ab00-304e-4d17-bf7f-68217b818f75",
   "metadata": {},
   "outputs": [],
   "source": [
    "import torch\n",
    "torch.save(model.state_dict(), 'final.pth')"
   ]
  }
 ],
 "metadata": {
  "kernelspec": {
   "display_name": "Python 3 (ipykernel)",
   "language": "python",
   "name": "python3"
  },
  "language_info": {
   "codemirror_mode": {
    "name": "ipython",
    "version": 3
   },
   "file_extension": ".py",
   "mimetype": "text/x-python",
   "name": "python",
   "nbconvert_exporter": "python",
   "pygments_lexer": "ipython3",
   "version": "3.10.13"
  }
 },
 "nbformat": 4,
 "nbformat_minor": 5
}
